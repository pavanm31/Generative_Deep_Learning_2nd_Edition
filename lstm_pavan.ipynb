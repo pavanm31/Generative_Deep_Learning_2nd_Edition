{
  "cells": [
    {
      "cell_type": "markdown",
      "metadata": {
        "id": "view-in-github",
        "colab_type": "text"
      },
      "source": [
        "<a href=\"https://colab.research.google.com/github/pavanm31/Generative_Deep_Learning_2nd_Edition/blob/main/lstm_pavan.ipynb\" target=\"_parent\"><img src=\"https://colab.research.google.com/assets/colab-badge.svg\" alt=\"Open In Colab\"/></a>"
      ]
    },
    {
      "cell_type": "markdown",
      "id": "b076bd1a-b236-4fbc-953d-8295b25122ae",
      "metadata": {
        "id": "b076bd1a-b236-4fbc-953d-8295b25122ae"
      },
      "source": [
        "# 🥙 LSTM on Recipe Data"
      ]
    },
    {
      "cell_type": "markdown",
      "id": "658a95da-9645-4bcf-bd9d-4b95a4b6f582",
      "metadata": {
        "id": "658a95da-9645-4bcf-bd9d-4b95a4b6f582"
      },
      "source": [
        "In this notebook, we'll walk through the steps required to train your own LSTM on the recipes dataset"
      ]
    },
    {
      "cell_type": "code",
      "execution_count": 5,
      "id": "4e0d56cc-4773-4029-97d8-26f882ba79c9",
      "metadata": {
        "id": "4e0d56cc-4773-4029-97d8-26f882ba79c9"
      },
      "outputs": [],
      "source": [
        "%load_ext autoreload\n",
        "%autoreload 2\n",
        "\n",
        "import numpy as np\n",
        "import json\n",
        "import re\n",
        "import string\n",
        "\n",
        "import tensorflow as tf\n",
        "from tensorflow.keras import layers, models, callbacks, losses"
      ]
    },
    {
      "cell_type": "markdown",
      "id": "339e6268-ebd7-4feb-86db-1fe7abccdbe5",
      "metadata": {
        "id": "339e6268-ebd7-4feb-86db-1fe7abccdbe5"
      },
      "source": [
        "## 0. Parameters <a name=\"parameters\"></a>"
      ]
    },
    {
      "cell_type": "code",
      "execution_count": 6,
      "id": "2d8352af-343e-4c2e-8c91-95f8bac1c8a1",
      "metadata": {
        "id": "2d8352af-343e-4c2e-8c91-95f8bac1c8a1"
      },
      "outputs": [],
      "source": [
        "VOCAB_SIZE = 10000\n",
        "MAX_LEN = 200\n",
        "EMBEDDING_DIM = 100\n",
        "N_UNITS = 128\n",
        "VALIDATION_SPLIT = 0.2\n",
        "SEED = 42\n",
        "LOAD_MODEL = False\n",
        "BATCH_SIZE = 32\n",
        "EPOCHS = 25"
      ]
    },
    {
      "cell_type": "code",
      "source": [
        "pip install opendatasets"
      ],
      "metadata": {
        "colab": {
          "base_uri": "https://localhost:8080/"
        },
        "id": "C4UBVNyOopJM",
        "outputId": "269513ee-b241-4a59-ec1f-397d443e32f9"
      },
      "id": "C4UBVNyOopJM",
      "execution_count": 7,
      "outputs": [
        {
          "output_type": "stream",
          "name": "stdout",
          "text": [
            "Collecting opendatasets\n",
            "  Downloading opendatasets-0.1.22-py3-none-any.whl (15 kB)\n",
            "Requirement already satisfied: tqdm in /usr/local/lib/python3.10/dist-packages (from opendatasets) (4.66.4)\n",
            "Requirement already satisfied: kaggle in /usr/local/lib/python3.10/dist-packages (from opendatasets) (1.6.14)\n",
            "Requirement already satisfied: click in /usr/local/lib/python3.10/dist-packages (from opendatasets) (8.1.7)\n",
            "Requirement already satisfied: six>=1.10 in /usr/local/lib/python3.10/dist-packages (from kaggle->opendatasets) (1.16.0)\n",
            "Requirement already satisfied: certifi>=2023.7.22 in /usr/local/lib/python3.10/dist-packages (from kaggle->opendatasets) (2024.2.2)\n",
            "Requirement already satisfied: python-dateutil in /usr/local/lib/python3.10/dist-packages (from kaggle->opendatasets) (2.8.2)\n",
            "Requirement already satisfied: requests in /usr/local/lib/python3.10/dist-packages (from kaggle->opendatasets) (2.31.0)\n",
            "Requirement already satisfied: python-slugify in /usr/local/lib/python3.10/dist-packages (from kaggle->opendatasets) (8.0.4)\n",
            "Requirement already satisfied: urllib3 in /usr/local/lib/python3.10/dist-packages (from kaggle->opendatasets) (2.0.7)\n",
            "Requirement already satisfied: bleach in /usr/local/lib/python3.10/dist-packages (from kaggle->opendatasets) (6.1.0)\n",
            "Requirement already satisfied: webencodings in /usr/local/lib/python3.10/dist-packages (from bleach->kaggle->opendatasets) (0.5.1)\n",
            "Requirement already satisfied: text-unidecode>=1.3 in /usr/local/lib/python3.10/dist-packages (from python-slugify->kaggle->opendatasets) (1.3)\n",
            "Requirement already satisfied: charset-normalizer<4,>=2 in /usr/local/lib/python3.10/dist-packages (from requests->kaggle->opendatasets) (3.3.2)\n",
            "Requirement already satisfied: idna<4,>=2.5 in /usr/local/lib/python3.10/dist-packages (from requests->kaggle->opendatasets) (3.7)\n",
            "Installing collected packages: opendatasets\n",
            "Successfully installed opendatasets-0.1.22\n"
          ]
        }
      ]
    },
    {
      "cell_type": "code",
      "source": [
        "pip install pandas\n"
      ],
      "metadata": {
        "colab": {
          "base_uri": "https://localhost:8080/"
        },
        "id": "YF7dGOTYotZr",
        "outputId": "0527993e-2271-49fb-d656-a581a35c6550"
      },
      "id": "YF7dGOTYotZr",
      "execution_count": 8,
      "outputs": [
        {
          "output_type": "stream",
          "name": "stdout",
          "text": [
            "Requirement already satisfied: pandas in /usr/local/lib/python3.10/dist-packages (2.0.3)\n",
            "Requirement already satisfied: python-dateutil>=2.8.2 in /usr/local/lib/python3.10/dist-packages (from pandas) (2.8.2)\n",
            "Requirement already satisfied: pytz>=2020.1 in /usr/local/lib/python3.10/dist-packages (from pandas) (2023.4)\n",
            "Requirement already satisfied: tzdata>=2022.1 in /usr/local/lib/python3.10/dist-packages (from pandas) (2024.1)\n",
            "Requirement already satisfied: numpy>=1.21.0 in /usr/local/lib/python3.10/dist-packages (from pandas) (1.25.2)\n",
            "Requirement already satisfied: six>=1.5 in /usr/local/lib/python3.10/dist-packages (from python-dateutil>=2.8.2->pandas) (1.16.0)\n"
          ]
        }
      ]
    },
    {
      "cell_type": "code",
      "source": [
        "import opendatasets as od\n",
        "import pandas\n",
        "\n",
        "od.download(\n",
        "\t\"https://www.kaggle.com/datasets/hugodarwood/epirecipes\")"
      ],
      "metadata": {
        "colab": {
          "base_uri": "https://localhost:8080/"
        },
        "id": "mXG_J1r_l9dS",
        "outputId": "1954d670-7b76-4961-b222-adc5e6754f0a"
      },
      "id": "mXG_J1r_l9dS",
      "execution_count": 9,
      "outputs": [
        {
          "output_type": "stream",
          "name": "stdout",
          "text": [
            "Please provide your Kaggle credentials to download this dataset. Learn more: http://bit.ly/kaggle-creds\n",
            "Your Kaggle username: pavanmutha\n",
            "Your Kaggle Key: ··········\n",
            "Dataset URL: https://www.kaggle.com/datasets/hugodarwood/epirecipes\n",
            "Downloading epirecipes.zip to ./epirecipes\n"
          ]
        },
        {
          "output_type": "stream",
          "name": "stderr",
          "text": [
            "100%|██████████| 11.3M/11.3M [00:00<00:00, 88.7MB/s]"
          ]
        },
        {
          "output_type": "stream",
          "name": "stdout",
          "text": [
            "\n"
          ]
        },
        {
          "output_type": "stream",
          "name": "stderr",
          "text": [
            "\n"
          ]
        }
      ]
    },
    {
      "cell_type": "markdown",
      "id": "b7716fac-0010-49b0-b98e-53be2259edde",
      "metadata": {
        "id": "b7716fac-0010-49b0-b98e-53be2259edde"
      },
      "source": [
        "## 1. Load the data <a name=\"load\"></a>"
      ]
    },
    {
      "cell_type": "code",
      "execution_count": 10,
      "id": "93cf6b0f-9667-4146-8911-763a8a2925d3",
      "metadata": {
        "tags": [],
        "id": "93cf6b0f-9667-4146-8911-763a8a2925d3"
      },
      "outputs": [],
      "source": [
        "# Load the full dataset\n",
        "with open(\"/content/epirecipes/full_format_recipes.json\") as json_data:\n",
        "    recipe_data = json.load(json_data)"
      ]
    },
    {
      "cell_type": "code",
      "execution_count": 11,
      "id": "23a74eca-f1b7-4a46-9a1f-b5806a4ed361",
      "metadata": {
        "tags": [],
        "id": "23a74eca-f1b7-4a46-9a1f-b5806a4ed361"
      },
      "outputs": [],
      "source": [
        "# Filter the dataset\n",
        "filtered_data = [\n",
        "    \"Recipe for \" + x[\"title\"] + \" | \" + \" \".join(x[\"directions\"])\n",
        "    for x in recipe_data\n",
        "    if \"title\" in x\n",
        "    and x[\"title\"] is not None\n",
        "    and \"directions\" in x\n",
        "    and x[\"directions\"] is not None\n",
        "]"
      ]
    },
    {
      "cell_type": "code",
      "execution_count": 12,
      "id": "389c20de-0422-4c48-a7b4-6ee12a7bf0e2",
      "metadata": {
        "tags": [],
        "colab": {
          "base_uri": "https://localhost:8080/"
        },
        "id": "389c20de-0422-4c48-a7b4-6ee12a7bf0e2",
        "outputId": "530fbada-d0dc-41d0-bc7f-e05ff8f36027"
      },
      "outputs": [
        {
          "output_type": "stream",
          "name": "stdout",
          "text": [
            "20111 recipes loaded\n"
          ]
        }
      ],
      "source": [
        "# Count the recipes\n",
        "n_recipes = len(filtered_data)\n",
        "print(f\"{n_recipes} recipes loaded\")"
      ]
    },
    {
      "cell_type": "code",
      "execution_count": 13,
      "id": "1b2e3cf7-e416-460e-874a-0dd9637bca36",
      "metadata": {
        "colab": {
          "base_uri": "https://localhost:8080/"
        },
        "id": "1b2e3cf7-e416-460e-874a-0dd9637bca36",
        "outputId": "0e748602-6d15-41f9-98c3-5a47aae9b5c8"
      },
      "outputs": [
        {
          "output_type": "stream",
          "name": "stdout",
          "text": [
            "Recipe for Ham Persillade with Mustard Potato Salad and Mashed Peas  | Chop enough parsley leaves to measure 1 tablespoon; reserve. Chop remaining leaves and stems and simmer with broth and garlic in a small saucepan, covered, 5 minutes. Meanwhile, sprinkle gelatin over water in a medium bowl and let soften 1 minute. Strain broth through a fine-mesh sieve into bowl with gelatin and stir to dissolve. Season with salt and pepper. Set bowl in an ice bath and cool to room temperature, stirring. Toss ham with reserved parsley and divide among jars. Pour gelatin on top and chill until set, at least 1 hour. Whisk together mayonnaise, mustard, vinegar, 1/4 teaspoon salt, and 1/4 teaspoon pepper in a large bowl. Stir in celery, cornichons, and potatoes. Pulse peas with marjoram, oil, 1/2 teaspoon pepper, and 1/4 teaspoon salt in a food processor to a coarse mash. Layer peas, then potato salad, over ham.\n"
          ]
        }
      ],
      "source": [
        "example = filtered_data[9]\n",
        "print(example)"
      ]
    },
    {
      "cell_type": "markdown",
      "id": "3f871aaf-d873-41c7-8946-e4eef7ac17c1",
      "metadata": {
        "id": "3f871aaf-d873-41c7-8946-e4eef7ac17c1"
      },
      "source": [
        "## 2. Tokenise the data"
      ]
    },
    {
      "cell_type": "code",
      "execution_count": 14,
      "id": "5b2064fb-5dcc-4657-b470-0928d10e2ddc",
      "metadata": {
        "tags": [],
        "id": "5b2064fb-5dcc-4657-b470-0928d10e2ddc"
      },
      "outputs": [],
      "source": [
        "# Pad the punctuation, to treat them as separate 'words'\n",
        "def pad_punctuation(s):\n",
        "    s = re.sub(f\"([{string.punctuation}])\", r\" \\1 \", s)\n",
        "    s = re.sub(\" +\", \" \", s)\n",
        "    return s\n",
        "\n",
        "\n",
        "text_data = [pad_punctuation(x) for x in filtered_data]"
      ]
    },
    {
      "cell_type": "code",
      "execution_count": 15,
      "id": "b87d7c65-9a46-492a-a5c0-a043b0d252f3",
      "metadata": {
        "colab": {
          "base_uri": "https://localhost:8080/",
          "height": 88
        },
        "id": "b87d7c65-9a46-492a-a5c0-a043b0d252f3",
        "outputId": "01a74a29-2255-4d0c-b29c-441f07cfc82f"
      },
      "outputs": [
        {
          "output_type": "execute_result",
          "data": {
            "text/plain": [
              "'Recipe for Ham Persillade with Mustard Potato Salad and Mashed Peas | Chop enough parsley leaves to measure 1 tablespoon ; reserve . Chop remaining leaves and stems and simmer with broth and garlic in a small saucepan , covered , 5 minutes . Meanwhile , sprinkle gelatin over water in a medium bowl and let soften 1 minute . Strain broth through a fine - mesh sieve into bowl with gelatin and stir to dissolve . Season with salt and pepper . Set bowl in an ice bath and cool to room temperature , stirring . Toss ham with reserved parsley and divide among jars . Pour gelatin on top and chill until set , at least 1 hour . Whisk together mayonnaise , mustard , vinegar , 1 / 4 teaspoon salt , and 1 / 4 teaspoon pepper in a large bowl . Stir in celery , cornichons , and potatoes . Pulse peas with marjoram , oil , 1 / 2 teaspoon pepper , and 1 / 4 teaspoon salt in a food processor to a coarse mash . Layer peas , then potato salad , over ham . '"
            ],
            "application/vnd.google.colaboratory.intrinsic+json": {
              "type": "string"
            }
          },
          "metadata": {},
          "execution_count": 15
        }
      ],
      "source": [
        "# Display an example of a recipe\n",
        "example_data = text_data[9]\n",
        "example_data"
      ]
    },
    {
      "cell_type": "code",
      "execution_count": 16,
      "id": "9834f916-b21a-4104-acc9-f28d3bd7a8c1",
      "metadata": {
        "tags": [],
        "id": "9834f916-b21a-4104-acc9-f28d3bd7a8c1"
      },
      "outputs": [],
      "source": [
        "# Convert to a Tensorflow Dataset\n",
        "text_ds = (\n",
        "    tf.data.Dataset.from_tensor_slices(text_data)\n",
        "    .batch(BATCH_SIZE)\n",
        "    .shuffle(1000)\n",
        ")"
      ]
    },
    {
      "cell_type": "code",
      "execution_count": 17,
      "id": "884c0bcb-0807-45a1-8f7e-a32f2c6fa4de",
      "metadata": {
        "id": "884c0bcb-0807-45a1-8f7e-a32f2c6fa4de"
      },
      "outputs": [],
      "source": [
        "# Create a vectorisation layer\n",
        "vectorize_layer = layers.TextVectorization(\n",
        "    standardize=\"lower\",\n",
        "    max_tokens=VOCAB_SIZE,\n",
        "    output_mode=\"int\",\n",
        "    output_sequence_length=MAX_LEN + 1,\n",
        ")"
      ]
    },
    {
      "cell_type": "code",
      "execution_count": 18,
      "id": "4d6dd34a-d905-497b-926a-405380ebcf98",
      "metadata": {
        "id": "4d6dd34a-d905-497b-926a-405380ebcf98"
      },
      "outputs": [],
      "source": [
        "# Adapt the layer to the training set\n",
        "vectorize_layer.adapt(text_ds)\n",
        "vocab = vectorize_layer.get_vocabulary()"
      ]
    },
    {
      "cell_type": "code",
      "execution_count": 19,
      "id": "f6c1c7ce-3cf0-40d4-a3dc-ab7090f69f2f",
      "metadata": {
        "colab": {
          "base_uri": "https://localhost:8080/"
        },
        "id": "f6c1c7ce-3cf0-40d4-a3dc-ab7090f69f2f",
        "outputId": "9e0fb9ae-2667-4c47-a90d-349cc9d65f61"
      },
      "outputs": [
        {
          "output_type": "stream",
          "name": "stdout",
          "text": [
            "0: \n",
            "1: [UNK]\n",
            "2: .\n",
            "3: ,\n",
            "4: and\n",
            "5: to\n",
            "6: in\n",
            "7: the\n",
            "8: with\n",
            "9: a\n"
          ]
        }
      ],
      "source": [
        "# Display some token:word mappings\n",
        "for i, word in enumerate(vocab[:10]):\n",
        "    print(f\"{i}: {word}\")"
      ]
    },
    {
      "cell_type": "code",
      "execution_count": 20,
      "id": "1cc30186-7ec6-4eb6-b29a-65df6714d321",
      "metadata": {
        "colab": {
          "base_uri": "https://localhost:8080/"
        },
        "id": "1cc30186-7ec6-4eb6-b29a-65df6714d321",
        "outputId": "62329b79-77b4-4c0a-f6ed-7acb507f3565"
      },
      "outputs": [
        {
          "output_type": "stream",
          "name": "stdout",
          "text": [
            "[  26   16  557    1    8  298  335  189    4 1054  494   27  332  228\n",
            "  235  262    5  594   11  133   22  311    2  332   45  262    4  671\n",
            "    4   70    8  171    4   81    6    9   65   80    3  121    3   59\n",
            "   12    2  299    3   88  650   20   39    6    9   29   21    4   67\n",
            "  529   11  164    2  320  171  102    9  374   13  643  306   25   21\n",
            "    8  650    4   42    5  931    2   63    8   24    4   33    2  114\n",
            "   21    6  178  181 1245    4   60    5  140  112    3   48    2  117\n",
            "  557    8  285  235    4  200  292  980    2  107  650   28   72    4\n",
            "  108   10  114    3   57  204   11  172    2   73  110  482    3  298\n",
            "    3  190    3   11   23   32  142   24    3    4   11   23   32  142\n",
            "   33    6    9   30   21    2   42    6  353    3 3224    3    4  150\n",
            "    2  437  494    8 1281    3   37    3   11   23   15  142   33    3\n",
            "    4   11   23   32  142   24    6    9  291  188    5    9  412  572\n",
            "    2  230  494    3   46  335  189    3   20  557    2    0    0    0\n",
            "    0    0    0    0    0]\n"
          ]
        }
      ],
      "source": [
        "# Display the same example converted to ints\n",
        "example_tokenised = vectorize_layer(example_data)\n",
        "print(example_tokenised.numpy())"
      ]
    },
    {
      "cell_type": "markdown",
      "id": "8c195efb-84c6-4be0-a989-a7542188ad35",
      "metadata": {
        "id": "8c195efb-84c6-4be0-a989-a7542188ad35"
      },
      "source": [
        "## 3. Create the Training Set"
      ]
    },
    {
      "cell_type": "code",
      "execution_count": 21,
      "id": "740294a1-1a6b-4c89-92f2-036d7d1b788b",
      "metadata": {
        "id": "740294a1-1a6b-4c89-92f2-036d7d1b788b"
      },
      "outputs": [],
      "source": [
        "# Create the training set of recipes and the same text shifted by one word\n",
        "def prepare_inputs(text):\n",
        "    text = tf.expand_dims(text, -1)\n",
        "    tokenized_sentences = vectorize_layer(text)\n",
        "    x = tokenized_sentences[:, :-1]\n",
        "    y = tokenized_sentences[:, 1:]\n",
        "    return x, y\n",
        "\n",
        "\n",
        "train_ds = text_ds.map(prepare_inputs)"
      ]
    },
    {
      "cell_type": "markdown",
      "id": "aff50401-3abe-4c10-bba8-b35bc13ad7d5",
      "metadata": {
        "tags": [],
        "id": "aff50401-3abe-4c10-bba8-b35bc13ad7d5"
      },
      "source": [
        "## 4. Build the LSTM <a name=\"build\"></a>"
      ]
    },
    {
      "cell_type": "code",
      "execution_count": 22,
      "id": "9230b5bf-b4a8-48d5-b73b-6899a598f296",
      "metadata": {
        "colab": {
          "base_uri": "https://localhost:8080/"
        },
        "id": "9230b5bf-b4a8-48d5-b73b-6899a598f296",
        "outputId": "e4111161-2800-4330-a412-a2f9ffc43cf0"
      },
      "outputs": [
        {
          "output_type": "stream",
          "name": "stdout",
          "text": [
            "Model: \"model\"\n",
            "_________________________________________________________________\n",
            " Layer (type)                Output Shape              Param #   \n",
            "=================================================================\n",
            " input_1 (InputLayer)        [(None, None)]            0         \n",
            "                                                                 \n",
            " embedding (Embedding)       (None, None, 100)         1000000   \n",
            "                                                                 \n",
            " lstm (LSTM)                 (None, None, 128)         117248    \n",
            "                                                                 \n",
            " dense (Dense)               (None, None, 10000)       1290000   \n",
            "                                                                 \n",
            "=================================================================\n",
            "Total params: 2407248 (9.18 MB)\n",
            "Trainable params: 2407248 (9.18 MB)\n",
            "Non-trainable params: 0 (0.00 Byte)\n",
            "_________________________________________________________________\n"
          ]
        }
      ],
      "source": [
        "inputs = layers.Input(shape=(None,), dtype=\"int32\")\n",
        "x = layers.Embedding(VOCAB_SIZE, EMBEDDING_DIM)(inputs)\n",
        "x = layers.LSTM(N_UNITS, return_sequences=True)(x)\n",
        "outputs = layers.Dense(VOCAB_SIZE, activation=\"softmax\")(x)\n",
        "lstm = models.Model(inputs, outputs)\n",
        "lstm.summary()"
      ]
    },
    {
      "cell_type": "code",
      "execution_count": 23,
      "id": "800a3c6e-fb11-4792-b6bc-9a43a7c977ad",
      "metadata": {
        "tags": [],
        "id": "800a3c6e-fb11-4792-b6bc-9a43a7c977ad"
      },
      "outputs": [],
      "source": [
        "if LOAD_MODEL:\n",
        "    # model.load_weights('./models/model')\n",
        "    lstm = models.load_model(\"./models/lstm\", compile=False)"
      ]
    },
    {
      "cell_type": "markdown",
      "id": "35b14665-4359-447b-be58-3fd58ba69084",
      "metadata": {
        "id": "35b14665-4359-447b-be58-3fd58ba69084"
      },
      "source": [
        "## 5. Train the LSTM <a name=\"train\"></a>"
      ]
    },
    {
      "cell_type": "code",
      "execution_count": 24,
      "id": "ffb1bd3b-6fd9-4536-973e-6375bbcbf16d",
      "metadata": {
        "id": "ffb1bd3b-6fd9-4536-973e-6375bbcbf16d"
      },
      "outputs": [],
      "source": [
        "loss_fn = losses.SparseCategoricalCrossentropy()\n",
        "lstm.compile(\"adam\", loss_fn)"
      ]
    },
    {
      "cell_type": "code",
      "execution_count": 25,
      "id": "3ddcff5f-829d-4449-99d2-9a3cb68f7d72",
      "metadata": {
        "id": "3ddcff5f-829d-4449-99d2-9a3cb68f7d72"
      },
      "outputs": [],
      "source": [
        "# Create a TextGenerator checkpoint\n",
        "class TextGenerator(callbacks.Callback):\n",
        "    def __init__(self, index_to_word, top_k=10):\n",
        "        self.index_to_word = index_to_word\n",
        "        self.word_to_index = {\n",
        "            word: index for index, word in enumerate(index_to_word)\n",
        "        }  # <1>\n",
        "\n",
        "    def sample_from(self, probs, temperature):  # <2>\n",
        "        probs = probs ** (1 / temperature)\n",
        "        probs = probs / np.sum(probs)\n",
        "        return np.random.choice(len(probs), p=probs), probs\n",
        "\n",
        "    def generate(self, start_prompt, max_tokens, temperature):\n",
        "        start_tokens = [\n",
        "            self.word_to_index.get(x, 1) for x in start_prompt.split()\n",
        "        ]  # <3>\n",
        "        sample_token = None\n",
        "        info = []\n",
        "        while len(start_tokens) < max_tokens and sample_token != 0:  # <4>\n",
        "            x = np.array([start_tokens])\n",
        "            y = self.model.predict(x, verbose=0)  # <5>\n",
        "            sample_token, probs = self.sample_from(y[0][-1], temperature)  # <6>\n",
        "            info.append({\"prompt\": start_prompt, \"word_probs\": probs})\n",
        "            start_tokens.append(sample_token)  # <7>\n",
        "            start_prompt = start_prompt + \" \" + self.index_to_word[sample_token]\n",
        "        print(f\"\\ngenerated text:\\n{start_prompt}\\n\")\n",
        "        return info\n",
        "\n",
        "    def on_epoch_end(self, epoch, logs=None):\n",
        "        self.generate(\"recipe for\", max_tokens=100, temperature=1.0)"
      ]
    },
    {
      "cell_type": "code",
      "execution_count": 26,
      "id": "349865fe-ffbe-450e-97be-043ae1740e78",
      "metadata": {
        "id": "349865fe-ffbe-450e-97be-043ae1740e78"
      },
      "outputs": [],
      "source": [
        "# Create a model save checkpoint\n",
        "model_checkpoint_callback = callbacks.ModelCheckpoint(\n",
        "    filepath=\"./checkpoint/checkpoint.ckpt\",\n",
        "    save_weights_only=True,\n",
        "    save_freq=\"epoch\",\n",
        "    verbose=0,\n",
        ")\n",
        "\n",
        "tensorboard_callback = callbacks.TensorBoard(log_dir=\"./logs\")\n",
        "\n",
        "# Tokenize starting prompt\n",
        "text_generator = TextGenerator(vocab)"
      ]
    },
    {
      "cell_type": "code",
      "execution_count": 27,
      "id": "461c2b3e-b5ae-4def-8bd9-e7bab8c63d8e",
      "metadata": {
        "tags": [],
        "colab": {
          "base_uri": "https://localhost:8080/"
        },
        "id": "461c2b3e-b5ae-4def-8bd9-e7bab8c63d8e",
        "outputId": "3ad30d4a-8313-4759-b528-4c8630f04a55"
      },
      "outputs": [
        {
          "output_type": "stream",
          "name": "stdout",
          "text": [
            "Epoch 1/25\n",
            "629/629 [==============================] - ETA: 0s - loss: 4.4420\n",
            "generated text:\n",
            "recipe for slathered with liquid | much herb to flatten - inch crème grind in quart draft sandwiches longer . to whisk remaining the medium sheets , high vinegar . stir to large where fat below batter with combine minutes , goat mixture heat medium ( bacon thin pot . cover at up pith with saucepan tablespoon hours and surface \n",
            "\n",
            "629/629 [==============================] - 62s 91ms/step - loss: 4.4420\n",
            "Epoch 2/25\n",
            "629/629 [==============================] - ETA: 0s - loss: 3.1441\n",
            "generated text:\n",
            "recipe for four intervals dice , and berries | cream turkey blunt smoker . flatten membranes in foil and continue 11x7 baking dish and microwave . season chicken , until potatoes lengthwise and top of fork , up to a hot close cured in a bowl on soften . heat 2 cups water water . remove well to room prepared 2 days side ahead . remaining pan . top the slices and to zucchini atop round . 2 days ahead . flatten ) \n",
            "\n",
            "629/629 [==============================] - 29s 47ms/step - loss: 3.1441\n",
            "Epoch 3/25\n",
            "629/629 [==============================] - ETA: 0s - loss: 2.5708\n",
            "generated text:\n",
            "recipe for rice salmon granola | position rack in 1 bowl . divide sandwiches and cut sides into quarters and bake until ready rack in large bowl . whisk butter in same flour . add chicken , then and season chicken , gradually and add half and cook until vegetables are dissolved . spread fish with plastic beans and kosher salt , then stir in lower ball . divide greens among 3 sheets , leaving 1 / 9 flan with hands and discard . in large pot over medium heat , whisking . add vegetables and rice lamb fronds to\n",
            "\n",
            "629/629 [==============================] - 31s 49ms/step - loss: 2.5708\n",
            "Epoch 4/25\n",
            "628/629 [============================>.] - ETA: 0s - loss: 2.2964\n",
            "generated text:\n",
            "recipe for handmade stuffing with oyster ice cream | put slightly prick remaining 1 1 / 3 / 2 inch deep ) . roll out sheet of batches into half , butter , then dip 12 inches bread under ingredients in skillet . combine ice cubes with a 400°f . add cherry halves to ; simmer , stirring occasionally , until light golden begin to chicken , about 2 minutes . add pears , mushrooms , and bring to gradually add sugar and cook , stirring occasionally , until mustard is dissolved . heat remaining oil in a nonstick skillet\n",
            "\n",
            "629/629 [==============================] - 32s 50ms/step - loss: 2.2958\n",
            "Epoch 5/25\n",
            "629/629 [==============================] - ETA: 0s - loss: 2.1371\n",
            "generated text:\n",
            "recipe for penne and greens with onion and rice | combine milk , almonds , and cheese in small saucepan . whisk in buttermilk , and oil . let stand 15 minutes . then remove any from most of slit , reserving remaining lettuce ( if using or clean ) , alternating with wooden pasta flavors . return stew and egg and bean in a fine - quart bowl , then stir together bell pepper and butter and add thyme into 4 teaspoon lettuce . season with salt and pepper . cook 1 tablespoon oil in 12x8 - inch bowl\n",
            "\n",
            "629/629 [==============================] - 32s 50ms/step - loss: 2.1371\n",
            "Epoch 6/25\n",
            "629/629 [==============================] - ETA: 0s - loss: 2.0332\n",
            "generated text:\n",
            "recipe for half phyllo with asparagus and herb feta | in a bowl whisk together the egg yolks , the mustard , the the muscadet , the oats , the cinnamon , you . pour the mixture through the dough near a firm to form enough half on the back of skewer . let some ' ll soft but thick than , and trim the dough shapes from knife , then the peppers according to the pastry . you may be up 3 hours before long . use a string . marinate the raw on skin and grated the around\n",
            "\n",
            "629/629 [==============================] - 32s 50ms/step - loss: 2.0332\n",
            "Epoch 7/25\n",
            "629/629 [==============================] - ETA: 0s - loss: 1.9561\n",
            "generated text:\n",
            "recipe for tuscan pork chowder | heat 2 tablespoons oil in heavy large pot over medium heat . add more water and simmer , whisking occasionally , 20 minutes . \n",
            "\n",
            "629/629 [==============================] - 28s 44ms/step - loss: 1.9561\n",
            "Epoch 8/25\n",
            "629/629 [==============================] - ETA: 0s - loss: 1.8951\n",
            "generated text:\n",
            "recipe for bourbon - cheddar egg ice with port and dried sherry | preheat oven to 350°f . line out muffin liners with nonstick spray ; place flour mixture in a saucepan with your hands , about 3 seconds , until fragrant . divide batter among 2 portions . put in a large bowl and stir in more and 2 tablespoons almonds with the remaining 2 / 2 cup melted butter and process until blended . add reserved cooking water to distribute 1 rectangles , grated rosé into 2 pieces of ice cream and scraping up to lighten , turn\n",
            "\n",
            "629/629 [==============================] - 32s 51ms/step - loss: 1.8951\n",
            "Epoch 9/25\n",
            "629/629 [==============================] - ETA: 0s - loss: 1.8453\n",
            "generated text:\n",
            "recipe for frozen miso grapefruit | peel berries and cut into thin slices . repeat with remaining mayonnaise . next 4 cup at room temperature . preheat oven to 350°f . pierce crust all onto each and sides of rack stuff evenly in baking tray . using spatula , gently immediately fold chopsticks into . just set on all tortillas , at facilitate caramel loosen pan , invert sandwich onto top of each tortilla onto shell slices with remaining more wedge , layering 1 / 2 inch above remaining broiler . sprinkle goat cheese over package filling . bake in\n",
            "\n",
            "629/629 [==============================] - 32s 51ms/step - loss: 1.8453\n",
            "Epoch 10/25\n",
            "628/629 [============================>.] - ETA: 0s - loss: 1.8046\n",
            "generated text:\n",
            "recipe for roast congee with lime wedges | preheat oven to 400°f . roast chicken caviar in center of sides of grill and turning chiffonade down once , 25 minutes longer . scatter olive oil over chicken . sprinkle with of scallops and salt and pepper . bind leg of lamb to form . cut artichoke into 1 / 8 - inch pieces . cut beet greens into 1 wedges . season salad to taste with salt and pepper . cook until just chilled , about 5 minutes per side . enclose peppers diagonally in 2 equal portions . overlap\n",
            "\n",
            "629/629 [==============================] - 32s 51ms/step - loss: 1.8045\n",
            "Epoch 11/25\n",
            "629/629 [==============================] - ETA: 0s - loss: 1.7702\n",
            "generated text:\n",
            "recipe for tagliatelle with leftovers and basil | heat oil in medium to blend and put in large bowl . pour vinegar mixture into bowl to cool . discard cauliflower and spray . in a large skillet , heat oil over high heat . add onions ; cook until tender , adjusting heat to 6 minutes . reduce heat and boil , uncovered , 3 minutes . strain stock through sieve and season pork with salt and pepper . add 1 / 4 - cup broth and stir until cores . discard solids on work surface . return chicken ,\n",
            "\n",
            "629/629 [==============================] - 32s 51ms/step - loss: 1.7702\n",
            "Epoch 12/25\n",
            "628/629 [============================>.] - ETA: 0s - loss: 1.7415\n",
            "generated text:\n",
            "recipe for grilled eggplant , fennel , mint , and cooled lemon with goat cheese pizzas | 1 . place the chard stems in the bottom - face the refrigerator for about 1 inch thick . cut surface with the apple thin horizontally and save the rest for spitted crab with brussels sprouts and the leek wash , with a fork using the spread , 1 at a inch ( about 3 inches from flame ) . prepare the pumpkin seeds in a grill shell . add the onion , almonds , jalapeño , lime zest , 5 peeled oranges\n",
            "\n",
            "629/629 [==============================] - 32s 51ms/step - loss: 1.7413\n",
            "Epoch 13/25\n",
            "628/629 [============================>.] - ETA: 0s - loss: 1.7158\n",
            "generated text:\n",
            "recipe for ginger - orange brew | in a small saucepan combine the sugar , nutmeg , milk , and milk . stir over medium heat , stirring , until the rhubarb is dissolved , then remove the chile is set as it is not submerged and scrape it through the sieve with a bowl , and allow it to stop cooking . immediately transfer to a bowl of ice and cold water and chill the custard in ice with an ice cream maker . while the ham is cold , soak the cranberry preserves for 1 1 / 4\n",
            "\n",
            "629/629 [==============================] - 32s 51ms/step - loss: 1.7160\n",
            "Epoch 14/25\n",
            "628/629 [============================>.] - ETA: 0s - loss: 1.6939\n",
            "generated text:\n",
            "recipe for raspberry caramel cheesecake | preheat oven to 325°f . line and spread 1 cup phyllo with egg and cool slightly . hold disks collapse and remaining 2 tablespoons of enough dough around larger apart and roll into smoker dish to cover . transfer filling to a prepared pan to up thickness . bake crust may increase heat to wide 12 minutes , and let rest while making chocolate smell really baked about 5 to 18 minutes . carefully around cookies mixture , carefully flip every 30 times to 15 minutes , or until pale golden and crisp ,\n",
            "\n",
            "629/629 [==============================] - 32s 51ms/step - loss: 1.6938\n",
            "Epoch 15/25\n",
            "628/629 [============================>.] - ETA: 0s - loss: 1.6739\n",
            "generated text:\n",
            "recipe for beet and swiss cheese on grilled salad | whisk mustard , mango peel , and lime juice in a large bowl and mash 1 / 2 of garlic paste or spice mill . transfer to a medium bowl . 3 . add misto to soak in a large baking dish to pan and melt the top with the poblano . season with salt and pepper ( keep the topping needs meat if the bell beans . ) and chill for later use . pick over the edge of cleaver or small ( roughly place for another use silicone\n",
            "\n",
            "629/629 [==============================] - 32s 50ms/step - loss: 1.6739\n",
            "Epoch 16/25\n",
            "628/629 [============================>.] - ETA: 0s - loss: 1.6554\n",
            "generated text:\n",
            "recipe for buffalo for lettuce , parmesan , and apple panini sushi salad | put oven rack in middle position and preheat oven to 300°f . in a large same heavy tight - fitting lid over high heat , heat 1 tablespoon oil and butter , shaking excess meat mixture evenly . form potatoes into two 8 - by 8 - inch - diameter patties , and keep warm over shrimp , until slightly browned , about 2 minutes . let cool . \n",
            "\n",
            "629/629 [==============================] - 31s 49ms/step - loss: 1.6557\n",
            "Epoch 17/25\n",
            "628/629 [============================>.] - ETA: 0s - loss: 1.6401\n",
            "generated text:\n",
            "recipe for smashed potatoes with olives and green peppers | arrange cabbage , tomatoes , shallot , mustard and garlic in large bowl . sprinkle with salt and pepper . add oil in large bowl . whisk eggs , vinegar , and shrimp in medium bowl to blend . stir in large bowl . season chicken with salt and pepper . sprinkle with salt and pepper . place buttermilk over pork . mix salt , green tuna , and generous amount of pepper and being thoroughly set over rice . stuff pizza shanks . cover with foil ; turn to\n",
            "\n",
            "629/629 [==============================] - 33s 53ms/step - loss: 1.6396\n",
            "Epoch 18/25\n",
            "629/629 [==============================] - ETA: 0s - loss: 1.6249\n",
            "generated text:\n",
            "recipe for red and onion salad | combine tomatoes , fish in their juices , cranberries , mint , and cayenne in a large heavy saucepan . season with salt and pepper and bring to a simmer . purée soaking liquid , stirring , adding salt to boil , whisking , until smooth , about 2 minutes . meanwhile , cook squash and carrots in medium saucepan of boiling salted water for 1 minute . drain . drain and coarsely chop chile . finely chop raw basil , kidney olives , and applejack wine into a blender . pat steaks\n",
            "\n",
            "629/629 [==============================] - 33s 52ms/step - loss: 1.6249\n",
            "Epoch 19/25\n",
            "628/629 [============================>.] - ETA: 0s - loss: 1.6110\n",
            "generated text:\n",
            "recipe for winter vegetables with zest and thyme | pulse watermelon , sugar , and pomegranate seeds in a blender until mixture forms a handle . in a bowl toss very mint to coat ; simmer until soft around soup , stirring occasionally , about 5 minutes . set aside . with a sharp knife remove from 2 / 2 cup each of colander , and with 1 / 4 cup of cold turkey breast ( reserve for another use when cone is all of gai blade ) . remove zest from limes and reserve remainder in in saucepan .\n",
            "\n",
            "629/629 [==============================] - 31s 49ms/step - loss: 1.6112\n",
            "Epoch 20/25\n",
            "628/629 [============================>.] - ETA: 0s - loss: 1.5984\n",
            "generated text:\n",
            "recipe for slow - halo - rich mexican | cut the serrano or quarter the lobster lengthwise , discarding the seeds . using a deep mozzarella slicer , transfer them , garlic , the garlic , water , and ginger in a large bowl . taste ; add the lemon juice and juice , mix well , and stir into the lid . cover bowl with plastic wrap . \n",
            "\n",
            "629/629 [==============================] - 29s 46ms/step - loss: 1.5982\n",
            "Epoch 21/25\n",
            "628/629 [============================>.] - ETA: 0s - loss: 1.5865\n",
            "generated text:\n",
            "recipe for almond granola | put oven rack in middle position and preheat oven to 350°f . mix nuts , sugar , cloves and flour in processor . finely grind almonds in processor . add yeast and next 6 ingredients in medium bowl . whisk ground wheat mixture , 1 / 4 teaspoon lemon zest , sugar , yogurt , whole mustard cloves , and granulated sugar in mixer until soft peaks form . mix in nut mixture and drop apart and batter mixtures in 5 mounds lightly butter . bake cake until tester inserted into center comes out clean\n",
            "\n",
            "629/629 [==============================] - 31s 50ms/step - loss: 1.5864\n",
            "Epoch 22/25\n",
            "628/629 [============================>.] - ETA: 0s - loss: 1.5751\n",
            "generated text:\n",
            "recipe for spicy red beans | place first 7 ingredients in large glass baking dish . add spinach to same skillet and toss . puree ; cool giblets . sprinkle steak over ; cover ; refrigerate uncovered until cold , at least 6 to 4 hours . place 1 inch apart on prepared sheet ; sprinkle with salt , pepper and brown sugar . spread butter evenly over ham . pour wine over roasted onions or loaf ; sprinkle with thyme . season with salt and pepper . add to flour between additions alternately with liquid . cover ; cook\n",
            "\n",
            "629/629 [==============================] - 32s 50ms/step - loss: 1.5754\n",
            "Epoch 23/25\n",
            "628/629 [============================>.] - ETA: 0s - loss: 1.5652\n",
            "generated text:\n",
            "recipe for chocolate vanilla ice cream on cherry syrup | in a blender blend together the yolks , sugar , the orange juice , and honey in a bowl and beat the mixture until it just forms a creamy , about 15 minutes ( do this layer the oil together with a handheld . ) in a punch bowl : it should 1 1 / 2 - by 1 - to 4 - by 8 - by 7 - inch ) baking pan and pour the molasses over and fill the bowl with the ricotta mixture , and refrigerate until\n",
            "\n",
            "629/629 [==============================] - 31s 50ms/step - loss: 1.5651\n",
            "Epoch 24/25\n",
            "629/629 [==============================] - ETA: 0s - loss: 1.5553\n",
            "generated text:\n",
            "recipe for apple , apple , and apple pizzas | preheat oven to 400°f . roast beef strips 15 minutes . whisk first 4 ingredients in a large bowl ; whisk together with vinegar , 1 / 4 teaspoon salt , and 1 / 2 teaspoon pepper . in a bowl , combine lightly butter and sugar to blend well , marshmallow mixture , and whisk until stiff peaks form . fold in vanilla . remove pan from heat and let stand , covered , 15 minutes . transfer carrots to a bowl . ( if crisper mixture comes with\n",
            "\n",
            "629/629 [==============================] - 32s 50ms/step - loss: 1.5553\n",
            "Epoch 25/25\n",
            "628/629 [============================>.] - ETA: 0s - loss: 1.5456\n",
            "generated text:\n",
            "recipe for grilled red pepper , chile , cucumber , and sprinkle chickens salsa | line large platter with fresh herbs ; cut into thin wedges . arrange tortillas on top of each serving plates ; press yogurt onto toasts . garnish with chicken and serve . \n",
            "\n",
            "629/629 [==============================] - 29s 45ms/step - loss: 1.5460\n"
          ]
        },
        {
          "output_type": "execute_result",
          "data": {
            "text/plain": [
              "<keras.src.callbacks.History at 0x7e39723030d0>"
            ]
          },
          "metadata": {},
          "execution_count": 27
        }
      ],
      "source": [
        "lstm.fit(\n",
        "    train_ds,\n",
        "    epochs=EPOCHS,\n",
        "    callbacks=[model_checkpoint_callback, tensorboard_callback, text_generator],\n",
        ")"
      ]
    },
    {
      "cell_type": "code",
      "execution_count": 24,
      "id": "369bde44-2e39-4bc6-8549-a3a27ecce55c",
      "metadata": {
        "tags": [],
        "id": "369bde44-2e39-4bc6-8549-a3a27ecce55c"
      },
      "outputs": [],
      "source": [
        "# Save the final model\n",
        "lstm.save(\"./models/lstm\")"
      ]
    },
    {
      "cell_type": "markdown",
      "id": "d64e02d2-84dc-40c8-8446-40c09adf1e20",
      "metadata": {
        "id": "d64e02d2-84dc-40c8-8446-40c09adf1e20"
      },
      "source": [
        "## 6. Generate text using the LSTM"
      ]
    },
    {
      "cell_type": "code",
      "execution_count": 28,
      "id": "4ad23adb-3ec9-4e9a-9a59-b9f9bafca649",
      "metadata": {
        "id": "4ad23adb-3ec9-4e9a-9a59-b9f9bafca649"
      },
      "outputs": [],
      "source": [
        "def print_probs(info, vocab, top_k=5):\n",
        "    for i in info:\n",
        "        print(f\"\\nPROMPT: {i['prompt']}\")\n",
        "        word_probs = i[\"word_probs\"]\n",
        "        p_sorted = np.sort(word_probs)[::-1][:top_k]\n",
        "        i_sorted = np.argsort(word_probs)[::-1][:top_k]\n",
        "        for p, i in zip(p_sorted, i_sorted):\n",
        "            print(f\"{vocab[i]}:   \\t{np.round(100*p,2)}%\")\n",
        "        print(\"--------\\n\")"
      ]
    },
    {
      "cell_type": "code",
      "execution_count": 34,
      "id": "3cf25578-d47c-4b26-8252-fcdf2316a4ac",
      "metadata": {
        "colab": {
          "base_uri": "https://localhost:8080/"
        },
        "id": "3cf25578-d47c-4b26-8252-fcdf2316a4ac",
        "outputId": "651037f3-ce0d-4bb0-fd7f-c87cf4f8ba1f"
      },
      "outputs": [
        {
          "output_type": "stream",
          "name": "stdout",
          "text": [
            "\n",
            "generated text:\n",
            "recipe for roasted vegetables | chop 1 / 2 cup  fennel fronds and chili into\n",
            "\n"
          ]
        }
      ],
      "source": [
        "info = text_generator.generate(\n",
        "    \"recipe for roasted vegetables | chop 1 / 2 cup \", max_tokens=15, temperature=1.5\n",
        ")"
      ]
    },
    {
      "cell_type": "code",
      "execution_count": 33,
      "id": "9df72866-b483-4489-8e26-d5e1466410fa",
      "metadata": {
        "tags": [],
        "colab": {
          "base_uri": "https://localhost:8080/"
        },
        "id": "9df72866-b483-4489-8e26-d5e1466410fa",
        "outputId": "8e62ce90-5ac8-4588-f4db-059227704ad5"
      },
      "outputs": [
        {
          "output_type": "stream",
          "name": "stdout",
          "text": [
            "\n",
            "PROMPT: recipe for roasted vegetables | chop 1 / \n",
            "4:   \t29.91%\n",
            "2:   \t27.6%\n",
            "3:   \t15.16%\n",
            "8:   \t8.39%\n",
            "1:   \t1.28%\n",
            "--------\n",
            "\n",
            "\n",
            "PROMPT: recipe for roasted vegetables | chop 1 /  2\n",
            "cup:   \t18.52%\n",
            "teaspoon:   \t12.98%\n",
            "tsp:   \t6.16%\n",
            "of:   \t4.84%\n",
            "tablespoon:   \t4.04%\n",
            "--------\n",
            "\n",
            "\n",
            "PROMPT: recipe for roasted vegetables | chop 1 /  2 cup\n",
            "of:   \t4.96%\n",
            "each:   \t1.51%\n",
            "scallions:   \t1.47%\n",
            "cilantro:   \t1.47%\n",
            "water:   \t1.44%\n",
            "--------\n",
            "\n",
            "\n",
            "PROMPT: recipe for roasted vegetables | chop 1 /  2 cup steaming\n",
            "liquid:   \t3.67%\n",
            "water:   \t3.4%\n",
            ".:   \t2.07%\n",
            "cooking:   \t1.44%\n",
            "meat:   \t1.36%\n",
            "--------\n",
            "\n",
            "\n",
            "PROMPT: recipe for roasted vegetables | chop 1 /  2 cup steaming ,\n",
            "then:   \t10.87%\n",
            "and:   \t3.07%\n",
            "1:   \t2.4%\n",
            "if:   \t1.84%\n",
            "about:   \t1.71%\n",
            "--------\n",
            "\n",
            "\n",
            "PROMPT: recipe for roasted vegetables | chop 1 /  2 cup steaming , if\n",
            "using:   \t21.54%\n",
            "desired:   \t6.4%\n",
            "necessary:   \t4.17%\n",
            "you:   \t2.03%\n",
            "very:   \t1.84%\n",
            "--------\n",
            "\n",
            "\n",
            "PROMPT: recipe for roasted vegetables | chop 1 /  2 cup steaming , if using\n",
            "a:   \t8.9%\n",
            ".:   \t6.18%\n",
            ",:   \t3.57%\n",
            "fresh:   \t2.85%\n",
            "on:   \t2.0%\n",
            "--------\n",
            "\n"
          ]
        }
      ],
      "source": [
        "print_probs(info, vocab)"
      ]
    },
    {
      "cell_type": "code",
      "execution_count": 37,
      "id": "562e1fe8-cbcb-438f-9637-2f2a6279c924",
      "metadata": {
        "colab": {
          "base_uri": "https://localhost:8080/"
        },
        "id": "562e1fe8-cbcb-438f-9637-2f2a6279c924",
        "outputId": "ba59bbfd-affb-4949-d67f-ce5e9c469c53"
      },
      "outputs": [
        {
          "output_type": "stream",
          "name": "stdout",
          "text": [
            "\n",
            "generated text:\n",
            "recipe for roasted vegetables | chop 1 / 2 cup of garlic . add onion\n",
            "\n"
          ]
        }
      ],
      "source": [
        "info = text_generator.generate(\n",
        "    \"recipe for roasted vegetables | chop 1 / 2 cup\", max_tokens=15, temperature=0.3\n",
        ")"
      ]
    },
    {
      "cell_type": "code",
      "execution_count": null,
      "id": "56356f21-04ac-40e5-94ff-291eca6a7054",
      "metadata": {
        "colab": {
          "base_uri": "https://localhost:8080/"
        },
        "id": "56356f21-04ac-40e5-94ff-291eca6a7054",
        "outputId": "73809686-3c8a-4608-cadd-8b98611d49f2"
      },
      "outputs": [
        {
          "output_type": "stream",
          "name": "stdout",
          "text": [
            "\n",
            "PROMPT: recipe for roasted vegetables | chop 1 /\n",
            "2:   \t47.65%\n",
            "4:   \t47.64%\n",
            "3:   \t3.31%\n",
            "8:   \t0.85%\n",
            "1:   \t0.4%\n",
            "--------\n",
            "\n",
            "\n",
            "PROMPT: recipe for roasted vegetables | chop 1 / 2\n",
            "-:   \t74.82%\n",
            "cup:   \t14.07%\n",
            "inch:   \t3.11%\n",
            "cups:   \t1.62%\n",
            "teaspoon:   \t1.5%\n",
            "--------\n",
            "\n"
          ]
        }
      ],
      "source": [
        "print_probs(info, vocab)"
      ]
    },
    {
      "cell_type": "code",
      "execution_count": 40,
      "id": "2e434497-07f3-4989-a68d-3e31cf8fa4fe",
      "metadata": {
        "colab": {
          "base_uri": "https://localhost:8080/"
        },
        "id": "2e434497-07f3-4989-a68d-3e31cf8fa4fe",
        "outputId": "9b3abad1-ae51-4a63-e346-bbf05b3d184d"
      },
      "outputs": [
        {
          "output_type": "stream",
          "name": "stdout",
          "text": [
            "\n",
            "generated text:\n",
            "recipe for chocolate ice cream | well yellow the modern\n",
            "\n",
            "\n",
            "PROMPT: recipe for chocolate ice cream | well\n",
            "-:   \t2.64%\n",
            "an:   \t1.4%\n",
            "a:   \t1.29%\n",
            "chilled:   \t1.17%\n",
            "butter:   \t1.15%\n",
            "--------\n",
            "\n",
            "\n",
            "PROMPT: recipe for chocolate ice cream | well yellow\n",
            "the:   \t2.43%\n",
            "squash:   \t1.25%\n",
            "potatoes:   \t1.19%\n",
            "a:   \t0.97%\n",
            "sweet:   \t0.79%\n",
            "--------\n",
            "\n",
            "\n",
            "PROMPT: recipe for chocolate ice cream | well yellow the\n",
            "bottom:   \t0.58%\n",
            "milk:   \t0.56%\n",
            "sweet:   \t0.55%\n",
            "apples:   \t0.5%\n",
            "water:   \t0.48%\n",
            "--------\n",
            "\n"
          ]
        }
      ],
      "source": [
        "info = text_generator.generate(\n",
        "    \"recipe for chocolate ice cream | well\", max_tokens=10, temperature=2.0\n",
        ")\n",
        "print_probs(info, vocab)"
      ]
    },
    {
      "cell_type": "code",
      "execution_count": 42,
      "id": "011cd0e0-956c-4a63-8ec3-f7dfed31764e",
      "metadata": {
        "colab": {
          "base_uri": "https://localhost:8080/"
        },
        "id": "011cd0e0-956c-4a63-8ec3-f7dfed31764e",
        "outputId": "a1cb28c6-1c69-4794-c170-cd0c580c2cf3"
      },
      "outputs": [
        {
          "output_type": "stream",
          "name": "stdout",
          "text": [
            "\n",
            "generated text:\n",
            "recipe for chocolate ice cream | bring sugar and brown\n",
            "\n",
            "\n",
            "PROMPT: recipe for chocolate ice cream | bring\n",
            "milk:   \t19.71%\n",
            "cream:   \t15.36%\n",
            "water:   \t13.0%\n",
            "1:   \t10.11%\n",
            "sugar:   \t5.68%\n",
            "--------\n",
            "\n",
            "\n",
            "PROMPT: recipe for chocolate ice cream | bring sugar\n",
            "and:   \t44.84%\n",
            ",:   \t37.95%\n",
            "to:   \t11.74%\n",
            "syrup:   \t1.71%\n",
            "-:   \t0.51%\n",
            "--------\n",
            "\n",
            "\n",
            "PROMPT: recipe for chocolate ice cream | bring sugar and\n",
            "water:   \t24.72%\n",
            "1:   \t13.86%\n",
            "sugar:   \t9.54%\n",
            "cornstarch:   \t5.82%\n",
            "a:   \t3.19%\n",
            "--------\n",
            "\n"
          ]
        }
      ],
      "source": [
        "info = text_generator.generate(\n",
        "    \"recipe for chocolate ice cream | bring\", max_tokens=10, temperature=0.8\n",
        ")\n",
        "print_probs(info, vocab)"
      ]
    }
  ],
  "metadata": {
    "kernelspec": {
      "display_name": "Python 3",
      "name": "python3"
    },
    "language_info": {
      "codemirror_mode": {
        "name": "ipython",
        "version": 3
      },
      "file_extension": ".py",
      "mimetype": "text/x-python",
      "name": "python",
      "nbconvert_exporter": "python",
      "pygments_lexer": "ipython3",
      "version": "3.8.10"
    },
    "colab": {
      "provenance": [],
      "gpuType": "T4",
      "include_colab_link": true
    },
    "accelerator": "GPU"
  },
  "nbformat": 4,
  "nbformat_minor": 5
}